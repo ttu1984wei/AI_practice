{
  "cells": [
    {
      "cell_type": "markdown",
      "metadata": {
        "id": "view-in-github",
        "colab_type": "text"
      },
      "source": [
        "<a href=\"https://colab.research.google.com/github/ttu1984wei/AI_practice/blob/main/CNN_CIFAR_10.ipynb\" target=\"_parent\"><img src=\"https://colab.research.google.com/assets/colab-badge.svg\" alt=\"Open In Colab\"/></a>"
      ]
    },
    {
      "cell_type": "code",
      "execution_count": null,
      "metadata": {
        "id": "dUhmz-lzDgSD"
      },
      "outputs": [],
      "source": [
        "%matplotlib inline\n",
        "import tensorflow as tf\n",
        "import keras\n",
        "from tensorflow.keras.datasets import mnist, cifar10\n",
        "from tensorflow.keras.utils import to_categorical\n",
        "from tensorflow.keras.models import Sequential\n",
        "from tensorflow.keras.layers import Conv2D, MaxPool2D, MaxPooling2D\n",
        "from tensorflow.keras.layers import Dense, Flatten, Activation\n",
        "from tensorflow.keras.optimizers import SGD, Adam\n",
        "from keras.layers import Dropout\n",
        "from keras.utils import np_utils\n",
        "from google.colab import drive\n",
        "\n",
        "import numpy as np\n",
        "import pandas as pd\n",
        "import matplotlib.pyplot as plt\n",
        "from scipy import signal"
      ]
    },
    {
      "cell_type": "code",
      "execution_count": null,
      "metadata": {
        "colab": {
          "base_uri": "https://localhost:8080/"
        },
        "id": "jpVzkcsEDlvo",
        "outputId": "dfc01397-22a3-4ff1-8736-e219614bea94"
      },
      "outputs": [
        {
          "output_type": "stream",
          "name": "stdout",
          "text": [
            "Downloading data from https://www.cs.toronto.edu/~kriz/cifar-10-python.tar.gz\n",
            "170500096/170498071 [==============================] - 13s 0us/step\n",
            "170508288/170498071 [==============================] - 13s 0us/step\n"
          ]
        }
      ],
      "source": [
        "# 指定亂數種子\n",
        "seed = 10\n",
        "np.random.seed(seed)\n",
        "# 載入資料集\n",
        "(x_train, y_train), (x_test, y_test) = cifar10.load_data()"
      ]
    },
    {
      "cell_type": "code",
      "source": [
        "x_train.shape"
      ],
      "metadata": {
        "colab": {
          "base_uri": "https://localhost:8080/"
        },
        "id": "io1-5R-Y-_0w",
        "outputId": "c61e33aa-3eae-47d3-8243-4bd997ffb161"
      },
      "execution_count": null,
      "outputs": [
        {
          "output_type": "execute_result",
          "data": {
            "text/plain": [
              "(50000, 32, 32, 3)"
            ]
          },
          "metadata": {},
          "execution_count": 4
        }
      ]
    },
    {
      "cell_type": "code",
      "execution_count": null,
      "metadata": {
        "id": "0v_t4K6ZDqcg"
      },
      "outputs": [],
      "source": [
        "#正規化\n",
        "x_train = x_train.astype(\"float32\") / 255\n",
        "x_test = x_test.astype(\"float32\") / 255"
      ]
    },
    {
      "cell_type": "code",
      "execution_count": null,
      "metadata": {
        "id": "c5Z0VQPzDwgO"
      },
      "outputs": [],
      "source": [
        "# One-hot編碼\n",
        "y_train = to_categorical(y_train)\n",
        "y_test = to_categorical(y_test)"
      ]
    },
    {
      "cell_type": "code",
      "source": [
        "y_train.shape"
      ],
      "metadata": {
        "colab": {
          "base_uri": "https://localhost:8080/"
        },
        "id": "zC3JTLTA_ROL",
        "outputId": "a764ac14-f6a0-4d81-c596-d8e833c6ecfb"
      },
      "execution_count": null,
      "outputs": [
        {
          "output_type": "execute_result",
          "data": {
            "text/plain": [
              "(50000, 10)"
            ]
          },
          "metadata": {},
          "execution_count": 7
        }
      ]
    },
    {
      "cell_type": "code",
      "execution_count": null,
      "metadata": {
        "colab": {
          "base_uri": "https://localhost:8080/"
        },
        "id": "HsnvxtduDyzZ",
        "outputId": "400a40cc-7137-48a0-b5c0-ff92fee015c6"
      },
      "outputs": [
        {
          "output_type": "stream",
          "name": "stdout",
          "text": [
            "Model: \"sequential\"\n",
            "_________________________________________________________________\n",
            " Layer (type)                Output Shape              Param #   \n",
            "=================================================================\n",
            " conv2d (Conv2D)             (None, 32, 32, 32)        896       \n",
            "                                                                 \n",
            " max_pooling2d (MaxPooling2D  (None, 16, 16, 32)       0         \n",
            " )                                                               \n",
            "                                                                 \n",
            " dropout (Dropout)           (None, 16, 16, 32)        0         \n",
            "                                                                 \n",
            " conv2d_1 (Conv2D)           (None, 16, 16, 128)       102528    \n",
            "                                                                 \n",
            " max_pooling2d_1 (MaxPooling  (None, 8, 8, 128)        0         \n",
            " 2D)                                                             \n",
            "                                                                 \n",
            " dropout_1 (Dropout)         (None, 8, 8, 128)         0         \n",
            "                                                                 \n",
            " conv2d_2 (Conv2D)           (None, 8, 8, 64)          73792     \n",
            "                                                                 \n",
            " max_pooling2d_2 (MaxPooling  (None, 4, 4, 64)         0         \n",
            " 2D)                                                             \n",
            "                                                                 \n",
            " dropout_2 (Dropout)         (None, 4, 4, 64)          0         \n",
            "                                                                 \n",
            " flatten (Flatten)           (None, 1024)              0         \n",
            "                                                                 \n",
            " dense (Dense)               (None, 512)               524800    \n",
            "                                                                 \n",
            " dense_1 (Dense)             (None, 128)               65664     \n",
            "                                                                 \n",
            " dropout_3 (Dropout)         (None, 128)               0         \n",
            "                                                                 \n",
            " dense_2 (Dense)             (None, 10)                1290      \n",
            "                                                                 \n",
            "=================================================================\n",
            "Total params: 768,970\n",
            "Trainable params: 768,970\n",
            "Non-trainable params: 0\n",
            "_________________________________________________________________\n"
          ]
        }
      ],
      "source": [
        "model = Sequential()\n",
        "model.add(Conv2D(32, kernel_size=(3, 3), padding='same',\n",
        "         input_shape=x_train.shape[1:], activation='relu'))\n",
        "model.add(MaxPooling2D(pool_size=(2,2)))\n",
        "model.add(Dropout(0.25))\n",
        "\n",
        "model.add(Conv2D(128, kernel_size=(5, 5), padding='same',\n",
        "          activation='relu'))#不需要input\n",
        "model.add(MaxPooling2D(pool_size=(2,2)))\n",
        "model.add(Dropout(0.25))\n",
        "\n",
        "model.add(Conv2D(64, kernel_size=(3, 3), padding='same',\n",
        "          activation='relu'))#不需要input\n",
        "model.add(MaxPooling2D(pool_size=(2,2)))\n",
        "model.add(Dropout(0.25))\n",
        "\n",
        "model.add(Flatten())\n",
        "model.add(Dense(512, activation='relu'))\n",
        "model.add(Dense(128, activation='relu'))\n",
        "model.add(Dropout(0.5))\n",
        "model.add(Dense(10, activation='softmax'))\n",
        "model.summary()"
      ]
    },
    {
      "cell_type": "code",
      "source": [
        "def plot_filters(layer,x,y):\n",
        "    print('filter of {} layer'.format(layer.name))\n",
        "    filters = layer.get_weights()[0]\n",
        "    (w,h,_,n)=filters.shape\n",
        "    for j in range(n):\n",
        "        ax=plt.subplot(y,x,j+1)\n",
        "        ax.imshow(filters[:,:,0,j],cmap='binary')\n",
        "        plt.xticks([])\n",
        "        plt.yticks([])\n",
        "    plt.show()\n",
        "    return plt\n",
        "\n",
        "plot_filters(model.layers[0],4,8)  # 1st convolution layer"
      ],
      "metadata": {
        "colab": {
          "base_uri": "https://localhost:8080/",
          "height": 288
        },
        "id": "9AWKhTUUkXWw",
        "outputId": "866b6fc8-4c1b-4413-c696-e73fdef1bfb1"
      },
      "execution_count": null,
      "outputs": [
        {
          "output_type": "stream",
          "name": "stdout",
          "text": [
            "filter of conv2d layer\n"
          ]
        },
        {
          "output_type": "display_data",
          "data": {
            "text/plain": [
              "<Figure size 432x288 with 32 Axes>"
            ],
            "image/png": "[encoded data removed]"
          },
          "metadata": {}
        },
        {
          "output_type": "execute_result",
          "data": {
            "text/plain": [
              "<module 'matplotlib.pyplot' from '/usr/local/lib/python3.7/dist-packages/matplotlib/pyplot.py'>"
            ]
          },
          "metadata": {},
          "execution_count": 20
        }
      ]
    },
    {
      "cell_type": "code",
      "execution_count": null,
      "metadata": {
        "id": "rThHOe_QD1dM"
      },
      "outputs": [],
      "source": [
        "#編譯模型\n",
        "model.compile(loss='mse', #'categorical_crossentropy',\n",
        "              optimizer=Adam(learning_rate=0.001),#'adam', \n",
        "              metrics=['accuracy'])"
      ]
    },
    {
      "cell_type": "code",
      "execution_count": null,
      "metadata": {
        "colab": {
          "base_uri": "https://localhost:8080/"
        },
        "id": "entQyRH8D4fD",
        "outputId": "241bffa7-f53e-44f4-bab6-c48a18b27011"
      },
      "outputs": [
        {
          "output_type": "stream",
          "name": "stdout",
          "text": [
            "Epoch 1/20\n",
            "352/352 - 16s - loss: 0.0778 - accuracy: 0.3342 - val_loss: 0.0640 - val_accuracy: 0.4972 - 16s/epoch - 45ms/step\n",
            "Epoch 2/20\n",
            "352/352 - 3s - loss: 0.0632 - accuracy: 0.5034 - val_loss: 0.0526 - val_accuracy: 0.6034 - 3s/epoch - 9ms/step\n",
            "Epoch 3/20\n",
            "352/352 - 3s - loss: 0.0558 - accuracy: 0.5781 - val_loss: 0.0480 - val_accuracy: 0.6404 - 3s/epoch - 9ms/step\n",
            "Epoch 4/20\n",
            "352/352 - 3s - loss: 0.0509 - accuracy: 0.6194 - val_loss: 0.0438 - val_accuracy: 0.6802 - 3s/epoch - 10ms/step\n",
            "Epoch 5/20\n",
            "352/352 - 3s - loss: 0.0475 - accuracy: 0.6485 - val_loss: 0.0425 - val_accuracy: 0.6888 - 3s/epoch - 9ms/step\n",
            "Epoch 6/20\n",
            "352/352 - 3s - loss: 0.0445 - accuracy: 0.6746 - val_loss: 0.0384 - val_accuracy: 0.7238 - 3s/epoch - 10ms/step\n",
            "Epoch 7/20\n",
            "352/352 - 4s - loss: 0.0421 - accuracy: 0.6935 - val_loss: 0.0393 - val_accuracy: 0.7204 - 4s/epoch - 12ms/step\n",
            "Epoch 8/20\n",
            "352/352 - 3s - loss: 0.0401 - accuracy: 0.7118 - val_loss: 0.0360 - val_accuracy: 0.7402 - 3s/epoch - 9ms/step\n",
            "Epoch 9/20\n",
            "352/352 - 3s - loss: 0.0386 - accuracy: 0.7234 - val_loss: 0.0348 - val_accuracy: 0.7534 - 3s/epoch - 9ms/step\n",
            "Epoch 10/20\n",
            "352/352 - 3s - loss: 0.0370 - accuracy: 0.7349 - val_loss: 0.0337 - val_accuracy: 0.7630 - 3s/epoch - 9ms/step\n",
            "Epoch 11/20\n",
            "352/352 - 3s - loss: 0.0356 - accuracy: 0.7455 - val_loss: 0.0334 - val_accuracy: 0.7612 - 3s/epoch - 9ms/step\n",
            "Epoch 12/20\n",
            "352/352 - 3s - loss: 0.0346 - accuracy: 0.7530 - val_loss: 0.0345 - val_accuracy: 0.7540 - 3s/epoch - 9ms/step\n",
            "Epoch 13/20\n",
            "352/352 - 3s - loss: 0.0333 - accuracy: 0.7623 - val_loss: 0.0324 - val_accuracy: 0.7732 - 3s/epoch - 9ms/step\n",
            "Epoch 14/20\n",
            "352/352 - 3s - loss: 0.0327 - accuracy: 0.7696 - val_loss: 0.0317 - val_accuracy: 0.7758 - 3s/epoch - 9ms/step\n",
            "Epoch 15/20\n",
            "352/352 - 3s - loss: 0.0314 - accuracy: 0.7795 - val_loss: 0.0326 - val_accuracy: 0.7682 - 3s/epoch - 10ms/step\n",
            "Epoch 16/20\n",
            "352/352 - 3s - loss: 0.0307 - accuracy: 0.7838 - val_loss: 0.0328 - val_accuracy: 0.7678 - 3s/epoch - 9ms/step\n",
            "Epoch 17/20\n",
            "352/352 - 3s - loss: 0.0298 - accuracy: 0.7910 - val_loss: 0.0321 - val_accuracy: 0.7726 - 3s/epoch - 9ms/step\n",
            "Epoch 18/20\n",
            "352/352 - 3s - loss: 0.0288 - accuracy: 0.7980 - val_loss: 0.0313 - val_accuracy: 0.7802 - 3s/epoch - 9ms/step\n",
            "Epoch 19/20\n",
            "352/352 - 3s - loss: 0.0281 - accuracy: 0.8044 - val_loss: 0.0313 - val_accuracy: 0.7802 - 3s/epoch - 10ms/step\n",
            "Epoch 20/20\n",
            "352/352 - 3s - loss: 0.0278 - accuracy: 0.8060 - val_loss: 0.0313 - val_accuracy: 0.7812 - 3s/epoch - 10ms/step\n"
          ]
        }
      ],
      "source": [
        "#訓練模型\n",
        "history = model.fit(x_train, y_train, validation_split=0.1, \n",
        "                    epochs=20, batch_size=128, verbose=2)"
      ]
    },
    {
      "cell_type": "code",
      "execution_count": null,
      "metadata": {
        "colab": {
          "base_uri": "https://localhost:8080/"
        },
        "id": "V09NAkDTje-s",
        "outputId": "11d6b368-c0dc-4fdc-8189-b0dba7437834"
      },
      "outputs": [
        {
          "output_type": "stream",
          "name": "stdout",
          "text": [
            "\n",
            "Testing ...\n",
            "1563/1563 [==============================] - 5s 3ms/step - loss: 0.0180 - accuracy: 0.8789\n",
            "訓練資料集的準確度= 0.88\n",
            "313/313 [==============================] - 1s 3ms/step - loss: 0.0326 - accuracy: 0.7723\n",
            "測試資料集的準確度= 0.77\n"
          ]
        }
      ],
      "source": [
        "#評估模型\n",
        "print('\\nTesting ...')\n",
        "loss, accuracy = model.evaluate(x_train, y_train)\n",
        "print('訓練資料集的準確度= {:.2f}'.format(accuracy))\n",
        "loss, accuracy = model.evaluate(x_test, y_test)\n",
        "print('測試資料集的準確度= {:.2f}'.format(accuracy))"
      ]
    },
    {
      "cell_type": "code",
      "source": [
        "#顯示訓練和驗證損失\n",
        "loss = history.history['loss']\n",
        "epochs = range(1, len(loss)+1)\n",
        "val_loss = history.history['val_loss']\n",
        "plt.plot(epochs, loss, \"bo-\", label='Training Loss')\n",
        "plt.plot(epochs, val_loss, \"ro--\", label='Validation Loss')\n",
        "plt.title('Training and Validation Loss')\n",
        "plt.xlabel('Epochs')\n",
        "plt.ylabel('Loss')\n",
        "plt.legend()\n",
        "plt.show()"
      ],
      "metadata": {
        "colab": {
          "base_uri": "https://localhost:8080/",
          "height": 295
        },
        "id": "01946Y_zHQaW",
        "outputId": "f9202c40-644d-4d66-bc5b-f194daab0971"
      },
      "execution_count": null,
      "outputs": [
        {
          "output_type": "display_data",
          "data": {
            "text/plain": [
              "<Figure size 432x288 with 1 Axes>"
            ],
            "image/png": "[encoded data removed]"
          },
          "metadata": {
            "needs_background": "light"
          }
        }
      ]
    },
    {
      "cell_type": "code",
      "source": [
        "#顯示訓練和驗證準確度\n",
        "acc = history.history[\"accuracy\"]\n",
        "epochs = range(1, len(acc)+1)\n",
        "val_acc = history.history[\"val_accuracy\"]\n",
        "plt.plot(epochs, acc, \"bo-\", label=\"Training Acc\")\n",
        "plt.plot(epochs, val_acc, \"ro--\", label=\"Validation Acc\")\n",
        "plt.title(\"Training and Validation Accuracy\")\n",
        "plt.xlabel(\"Epochs\")\n",
        "plt.ylabel(\"Accuracy\")\n",
        "plt.legend()\n",
        "plt.show()"
      ],
      "metadata": {
        "colab": {
          "base_uri": "https://localhost:8080/",
          "height": 295
        },
        "id": "AFpVAj6UHWSK",
        "outputId": "15f1ecf7-ac43-48e3-9ba6-41be7bcfba15"
      },
      "execution_count": null,
      "outputs": [
        {
          "output_type": "display_data",
          "data": {
            "text/plain": [
              "<Figure size 432x288 with 1 Axes>"
            ],
            "image/png": "[encoded data removed]"
          },
          "metadata": {
            "needs_background": "light"
          }
        }
      ]
    },
    {
      "cell_type": "code",
      "source": [
        "drive.mount('/content/drive')"
      ],
      "metadata": {
        "colab": {
          "base_uri": "https://localhost:8080/"
        },
        "id": "Re0mZE43xrai",
        "outputId": "b8880759-fd70-41b9-b5f7-8210cf9bdb4d"
      },
      "execution_count": null,
      "outputs": [
        {
          "output_type": "stream",
          "name": "stdout",
          "text": [
            "Mounted at /content/drive\n"
          ]
        }
      ]
    },
    {
      "cell_type": "code",
      "source": [
        "%cd '/content/drive/My Drive/Colab Notebooks'"
      ],
      "metadata": {
        "colab": {
          "base_uri": "https://localhost:8080/"
        },
        "id": "wNHoO9uaxrno",
        "outputId": "f62c978e-e568-41dd-db1f-5249524dcae2"
      },
      "execution_count": null,
      "outputs": [
        {
          "output_type": "stream",
          "name": "stdout",
          "text": [
            "/content/drive/My Drive/Colab Notebooks\n"
          ]
        }
      ]
    },
    {
      "cell_type": "code",
      "execution_count": null,
      "metadata": {
        "id": "KkX3DYVgjIhr"
      },
      "outputs": [],
      "source": [
        "model.save('cifar10.h5')#儲存模型"
      ]
    },
    {
      "cell_type": "code",
      "execution_count": null,
      "metadata": {
        "id": "RrBdCqvIjyv4"
      },
      "outputs": [],
      "source": [
        ""
      ]
    }
  ],
  "metadata": {
    "accelerator": "GPU",
    "colab": {
      "name": "CNN_CIFAR-10",
      "provenance": [],
      "authorship_tag": "ABX9TyN8pEf3ZTQkehdStPHV4brN",
      "include_colab_link": true
    },
    "gpuClass": "standard",
    "kernelspec": {
      "display_name": "Python 3",
      "name": "python3"
    },
    "language_info": {
      "name": "python"
    }
  },
  "nbformat": 4,
  "nbformat_minor": 0
}