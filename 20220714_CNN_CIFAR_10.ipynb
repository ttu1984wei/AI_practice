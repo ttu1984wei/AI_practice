{
  "cells": [
    {
      "cell_type": "markdown",
      "metadata": {
        "id": "view-in-github",
        "colab_type": "text"
      },
      "source": [
        "<a href=\"https://colab.research.google.com/github/ttu1984wei/AI_practice/blob/main/20220714_CNN_CIFAR_10.ipynb\" target=\"_parent\"><img src=\"https://colab.research.google.com/assets/colab-badge.svg\" alt=\"Open In Colab\"/></a>"
      ]
    },
    {
      "cell_type": "markdown",
      "metadata": {
        "id": "Qh6y_xHENxCK"
      },
      "source": [
        "上方「編輯」=> 「筆記本設定」=> 「硬體加速器」=> 選擇「GPU」"
      ]
    },
    {
      "cell_type": "code",
      "execution_count": 2,
      "metadata": {
        "id": "dUhmz-lzDgSD"
      },
      "outputs": [],
      "source": [
        "%matplotlib inline\n",
        "import tensorflow as tf\n",
        "import keras\n",
        "from tensorflow.keras.datasets import mnist, cifar10\n",
        "from tensorflow.keras.utils import to_categorical\n",
        "from tensorflow.keras.models import Sequential\n",
        "from tensorflow.keras.layers import Conv2D, MaxPool2D, MaxPooling2D\n",
        "from tensorflow.keras.layers import Dense, Flatten, Activation\n",
        "from tensorflow.keras.optimizers import SGD, Adam\n",
        "from keras.layers import Dropout\n",
        "from keras.utils import np_utils\n",
        "\n",
        "import numpy as np\n",
        "import pandas as pd\n",
        "import matplotlib.pyplot as plt\n",
        "from scipy import signal"
      ]
    },
    {
      "cell_type": "code",
      "execution_count": 3,
      "metadata": {
        "colab": {
          "base_uri": "https://localhost:8080/"
        },
        "id": "jpVzkcsEDlvo",
        "outputId": "a3952bc1-6999-46fe-9e98-35105e20e54c"
      },
      "outputs": [
        {
          "output_type": "stream",
          "name": "stdout",
          "text": [
            "Downloading data from https://www.cs.toronto.edu/~kriz/cifar-10-python.tar.gz\n",
            "170500096/170498071 [==============================] - 13s 0us/step\n",
            "170508288/170498071 [==============================] - 13s 0us/step\n"
          ]
        }
      ],
      "source": [
        "# 指定亂數種子\n",
        "seed = 10\n",
        "np.random.seed(seed)\n",
        "# 載入資料集\n",
        "(x_train, y_train), (x_test, y_test) = cifar10.load_data()"
      ]
    },
    {
      "cell_type": "code",
      "source": [
        "x_train.shape"
      ],
      "metadata": {
        "colab": {
          "base_uri": "https://localhost:8080/"
        },
        "id": "io1-5R-Y-_0w",
        "outputId": "c2f57926-8b87-48dd-c679-63f748715646"
      },
      "execution_count": 4,
      "outputs": [
        {
          "output_type": "execute_result",
          "data": {
            "text/plain": [
              "(50000, 32, 32, 3)"
            ]
          },
          "metadata": {},
          "execution_count": 4
        }
      ]
    },
    {
      "cell_type": "code",
      "execution_count": 5,
      "metadata": {
        "id": "0v_t4K6ZDqcg"
      },
      "outputs": [],
      "source": [
        "#正規化\n",
        "x_train = x_train.astype(\"float32\") / 255\n",
        "x_test = x_test.astype(\"float32\") / 255"
      ]
    },
    {
      "cell_type": "code",
      "execution_count": 6,
      "metadata": {
        "id": "c5Z0VQPzDwgO"
      },
      "outputs": [],
      "source": [
        "# One-hot編碼\n",
        "y_train = to_categorical(y_train)\n",
        "y_test = to_categorical(y_test)"
      ]
    },
    {
      "cell_type": "code",
      "source": [
        "y_train.shape"
      ],
      "metadata": {
        "colab": {
          "base_uri": "https://localhost:8080/"
        },
        "id": "zC3JTLTA_ROL",
        "outputId": "6e42a894-46d7-45c3-b904-db4146ba6dc9"
      },
      "execution_count": 7,
      "outputs": [
        {
          "output_type": "execute_result",
          "data": {
            "text/plain": [
              "(50000, 10)"
            ]
          },
          "metadata": {},
          "execution_count": 7
        }
      ]
    },
    {
      "cell_type": "code",
      "execution_count": 22,
      "metadata": {
        "colab": {
          "base_uri": "https://localhost:8080/"
        },
        "id": "HsnvxtduDyzZ",
        "outputId": "2fd23077-29f6-42de-8568-554ad00b28ae"
      },
      "outputs": [
        {
          "output_type": "stream",
          "name": "stdout",
          "text": [
            "Model: \"sequential_1\"\n",
            "_________________________________________________________________\n",
            " Layer (type)                Output Shape              Param #   \n",
            "=================================================================\n",
            " conv2d_2 (Conv2D)           (None, 32, 32, 32)        896       \n",
            "                                                                 \n",
            " max_pooling2d_2 (MaxPooling  (None, 16, 16, 32)       0         \n",
            " 2D)                                                             \n",
            "                                                                 \n",
            " dropout_3 (Dropout)         (None, 16, 16, 32)        0         \n",
            "                                                                 \n",
            " conv2d_3 (Conv2D)           (None, 16, 16, 64)        18496     \n",
            "                                                                 \n",
            " max_pooling2d_3 (MaxPooling  (None, 8, 8, 64)         0         \n",
            " 2D)                                                             \n",
            "                                                                 \n",
            " dropout_4 (Dropout)         (None, 8, 8, 64)          0         \n",
            "                                                                 \n",
            " flatten_1 (Flatten)         (None, 4096)              0         \n",
            "                                                                 \n",
            " dense_3 (Dense)             (None, 512)               2097664   \n",
            "                                                                 \n",
            " dropout_5 (Dropout)         (None, 512)               0         \n",
            "                                                                 \n",
            " dense_4 (Dense)             (None, 10)                5130      \n",
            "                                                                 \n",
            "=================================================================\n",
            "Total params: 2,122,186\n",
            "Trainable params: 2,122,186\n",
            "Non-trainable params: 0\n",
            "_________________________________________________________________\n"
          ]
        }
      ],
      "source": [
        "model = Sequential()\n",
        "model.add(Conv2D(32, kernel_size=(3, 3), padding='same',\n",
        "         input_shape=x_train.shape[1:], activation='relu'))\n",
        "model.add(MaxPooling2D(pool_size=(2,2)))\n",
        "model.add(Dropout(0.25))\n",
        "\n",
        "model.add(Conv2D(64, kernel_size=(3, 3), padding='same',\n",
        "          activation='relu'))#不需要input\n",
        "model.add(MaxPooling2D(pool_size=(2,2)))\n",
        "model.add(Dropout(0.25))\n",
        "\n",
        "model.add(Flatten())\n",
        "model.add(Dense(512, activation='relu'))\n",
        "model.add(Dropout(0.5))\n",
        "model.add(Dense(10, activation='softmax'))\n",
        "model.summary()"
      ]
    },
    {
      "cell_type": "code",
      "execution_count": 23,
      "metadata": {
        "id": "rThHOe_QD1dM"
      },
      "outputs": [],
      "source": [
        "#編譯模型\n",
        "model.compile(loss='mse', #'categorical_crossentropy',\n",
        "              optimizer=Adam(learning_rate=0.001),#'adam', \n",
        "              metrics=['accuracy'])"
      ]
    },
    {
      "cell_type": "code",
      "execution_count": 24,
      "metadata": {
        "colab": {
          "base_uri": "https://localhost:8080/"
        },
        "id": "entQyRH8D4fD",
        "outputId": "5fd4fd8d-2692-4ade-ef7c-3c0e69451abd"
      },
      "outputs": [
        {
          "output_type": "stream",
          "name": "stdout",
          "text": [
            "Epoch 1/20\n",
            "313/313 - 3s - loss: 0.0745 - accuracy: 0.3738 - val_loss: 0.0644 - val_accuracy: 0.4978 - 3s/epoch - 9ms/step\n",
            "Epoch 2/20\n",
            "313/313 - 2s - loss: 0.0616 - accuracy: 0.5187 - val_loss: 0.0565 - val_accuracy: 0.5760 - 2s/epoch - 7ms/step\n",
            "Epoch 3/20\n",
            "313/313 - 2s - loss: 0.0558 - accuracy: 0.5733 - val_loss: 0.0506 - val_accuracy: 0.6307 - 2s/epoch - 7ms/step\n",
            "Epoch 4/20\n",
            "313/313 - 2s - loss: 0.0515 - accuracy: 0.6101 - val_loss: 0.0481 - val_accuracy: 0.6459 - 2s/epoch - 7ms/step\n",
            "Epoch 5/20\n",
            "313/313 - 2s - loss: 0.0485 - accuracy: 0.6388 - val_loss: 0.0455 - val_accuracy: 0.6642 - 2s/epoch - 7ms/step\n",
            "Epoch 6/20\n",
            "313/313 - 2s - loss: 0.0465 - accuracy: 0.6565 - val_loss: 0.0439 - val_accuracy: 0.6788 - 2s/epoch - 7ms/step\n",
            "Epoch 7/20\n",
            "313/313 - 2s - loss: 0.0444 - accuracy: 0.6762 - val_loss: 0.0426 - val_accuracy: 0.6898 - 2s/epoch - 7ms/step\n",
            "Epoch 8/20\n",
            "313/313 - 2s - loss: 0.0428 - accuracy: 0.6885 - val_loss: 0.0410 - val_accuracy: 0.7047 - 2s/epoch - 7ms/step\n",
            "Epoch 9/20\n",
            "313/313 - 2s - loss: 0.0410 - accuracy: 0.7036 - val_loss: 0.0397 - val_accuracy: 0.7136 - 2s/epoch - 7ms/step\n",
            "Epoch 10/20\n",
            "313/313 - 2s - loss: 0.0398 - accuracy: 0.7118 - val_loss: 0.0387 - val_accuracy: 0.7205 - 2s/epoch - 7ms/step\n",
            "Epoch 11/20\n",
            "313/313 - 2s - loss: 0.0383 - accuracy: 0.7251 - val_loss: 0.0394 - val_accuracy: 0.7167 - 2s/epoch - 7ms/step\n",
            "Epoch 12/20\n",
            "313/313 - 2s - loss: 0.0373 - accuracy: 0.7321 - val_loss: 0.0380 - val_accuracy: 0.7249 - 2s/epoch - 7ms/step\n",
            "Epoch 13/20\n",
            "313/313 - 2s - loss: 0.0358 - accuracy: 0.7459 - val_loss: 0.0382 - val_accuracy: 0.7254 - 2s/epoch - 7ms/step\n",
            "Epoch 14/20\n",
            "313/313 - 2s - loss: 0.0348 - accuracy: 0.7518 - val_loss: 0.0373 - val_accuracy: 0.7309 - 2s/epoch - 7ms/step\n",
            "Epoch 15/20\n",
            "313/313 - 2s - loss: 0.0342 - accuracy: 0.7564 - val_loss: 0.0365 - val_accuracy: 0.7356 - 2s/epoch - 7ms/step\n",
            "Epoch 16/20\n",
            "313/313 - 2s - loss: 0.0332 - accuracy: 0.7638 - val_loss: 0.0362 - val_accuracy: 0.7404 - 2s/epoch - 7ms/step\n",
            "Epoch 17/20\n",
            "313/313 - 2s - loss: 0.0321 - accuracy: 0.7720 - val_loss: 0.0357 - val_accuracy: 0.7435 - 2s/epoch - 7ms/step\n",
            "Epoch 18/20\n",
            "313/313 - 2s - loss: 0.0312 - accuracy: 0.7809 - val_loss: 0.0361 - val_accuracy: 0.7388 - 2s/epoch - 7ms/step\n",
            "Epoch 19/20\n",
            "313/313 - 2s - loss: 0.0303 - accuracy: 0.7882 - val_loss: 0.0355 - val_accuracy: 0.7495 - 2s/epoch - 7ms/step\n",
            "Epoch 20/20\n",
            "313/313 - 2s - loss: 0.0298 - accuracy: 0.7926 - val_loss: 0.0361 - val_accuracy: 0.7422 - 2s/epoch - 7ms/step\n"
          ]
        }
      ],
      "source": [
        "#訓練模型\n",
        "history = model.fit(x_train, y_train, validation_split=0.2, \n",
        "                    epochs=20, batch_size=128, verbose=2)"
      ]
    },
    {
      "cell_type": "code",
      "execution_count": 25,
      "metadata": {
        "colab": {
          "base_uri": "https://localhost:8080/"
        },
        "id": "V09NAkDTje-s",
        "outputId": "80c44ac2-2a9c-485f-d6d4-c29ca47808f5"
      },
      "outputs": [
        {
          "output_type": "stream",
          "name": "stdout",
          "text": [
            "\n",
            "Testing ...\n",
            "1563/1563 [==============================] - 4s 3ms/step - loss: 0.0219 - accuracy: 0.8563\n",
            "訓練資料集的準確度= 0.86\n",
            "313/313 [==============================] - 1s 3ms/step - loss: 0.0370 - accuracy: 0.7323\n",
            "測試資料集的準確度= 0.73\n"
          ]
        }
      ],
      "source": [
        "#評估模型\n",
        "print('\\nTesting ...')\n",
        "loss, accuracy = model.evaluate(x_train, y_train)\n",
        "print('訓練資料集的準確度= {:.2f}'.format(accuracy))\n",
        "loss, accuracy = model.evaluate(x_test, y_test)\n",
        "print('測試資料集的準確度= {:.2f}'.format(accuracy))"
      ]
    },
    {
      "cell_type": "code",
      "source": [
        "#顯示訓練和驗證損失\n",
        "loss = history.history['loss']\n",
        "epochs = range(1, len(loss)+1)\n",
        "val_loss = history.history['val_loss']\n",
        "plt.plot(epochs, loss, \"bo-\", label='Training Loss')\n",
        "plt.plot(epochs, val_loss, \"ro--\", label='Validation Loss')\n",
        "plt.title('Training and Validation Loss')\n",
        "plt.xlabel('Epochs')\n",
        "plt.ylabel('Loss')\n",
        "plt.legend()\n",
        "plt.show()"
      ],
      "metadata": {
        "colab": {
          "base_uri": "https://localhost:8080/",
          "height": 295
        },
        "id": "01946Y_zHQaW",
        "outputId": "f68b3ea7-011f-49da-8e7e-f6d422bb4eb9"
      },
      "execution_count": 26,
      "outputs": [
        {
          "output_type": "display_data",
          "data": {
            "text/plain": [
              "<Figure size 432x288 with 1 Axes>"
            ],
            "image/png": "[encoded data removed]"
          },
          "metadata": {
            "needs_background": "light"
          }
        }
      ]
    },
    {
      "cell_type": "code",
      "source": [
        "#顯示訓練和驗證準確度\n",
        "acc = history.history[\"accuracy\"]\n",
        "epochs = range(1, len(acc)+1)\n",
        "val_acc = history.history[\"val_accuracy\"]\n",
        "plt.plot(epochs, acc, \"bo-\", label=\"Training Acc\")\n",
        "plt.plot(epochs, val_acc, \"ro--\", label=\"Validation Acc\")\n",
        "plt.title(\"Training and Validation Accuracy\")\n",
        "plt.xlabel(\"Epochs\")\n",
        "plt.ylabel(\"Accuracy\")\n",
        "plt.legend()\n",
        "plt.show()"
      ],
      "metadata": {
        "colab": {
          "base_uri": "https://localhost:8080/",
          "height": 295
        },
        "id": "AFpVAj6UHWSK",
        "outputId": "9ee86acb-90e3-4950-eb0a-29f3b0820337"
      },
      "execution_count": 27,
      "outputs": [
        {
          "output_type": "display_data",
          "data": {
            "text/plain": [
              "<Figure size 432x288 with 1 Axes>"
            ],
            "image/png": "[encoded data removed]"
          },
          "metadata": {
            "needs_background": "light"
          }
        }
      ]
    },
    {
      "cell_type": "code",
      "execution_count": null,
      "metadata": {
        "id": "CPPdNZxLD6yC"
      },
      "outputs": [],
      "source": [
        "from google.colab import drive"
      ]
    },
    {
      "cell_type": "code",
      "execution_count": null,
      "metadata": {
        "id": "KkX3DYVgjIhr"
      },
      "outputs": [],
      "source": [
        "model.save('data/cifar10.h5')#儲存模型"
      ]
    },
    {
      "cell_type": "code",
      "execution_count": null,
      "metadata": {
        "id": "RrBdCqvIjyv4"
      },
      "outputs": [],
      "source": [
        ""
      ]
    }
  ],
  "metadata": {
    "accelerator": "GPU",
    "colab": {
      "name": "20220714_CNN_CIFAR-10",
      "provenance": [],
      "authorship_tag": "ABX9TyOTHIAVSD3/xu9iGb+eavBS",
      "include_colab_link": true
    },
    "gpuClass": "standard",
    "kernelspec": {
      "display_name": "Python 3",
      "name": "python3"
    },
    "language_info": {
      "name": "python"
    }
  },
  "nbformat": 4,
  "nbformat_minor": 0
}