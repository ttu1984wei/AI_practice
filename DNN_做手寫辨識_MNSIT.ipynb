{
  "nbformat": 4,
  "nbformat_minor": 0,
  "metadata": {
    "colab": {
      "name": "DNN 做手寫辨識_MNSIT.ipynb",
      "provenance": [],
      "authorship_tag": "ABX9TyMhOxTghE/HngnOBOxtfdOy",
      "include_colab_link": true
    },
    "kernelspec": {
      "name": "python3",
      "display_name": "Python 3"
    },
    "language_info": {
      "name": "python"
    },
    "widgets": {
      "application/vnd.jupyter.widget-state+json": {
        "ce1133c1d6fb464b8fe32eceda612af8": {
          "model_module": "@jupyter-widgets/controls",
          "model_name": "VBoxModel",
          "model_module_version": "1.5.0",
          "state": {
            "_dom_classes": [
              "widget-interact"
            ],
            "_model_module": "@jupyter-widgets/controls",
            "_model_module_version": "1.5.0",
            "_model_name": "VBoxModel",
            "_view_count": null,
            "_view_module": "@jupyter-widgets/controls",
            "_view_module_version": "1.5.0",
            "_view_name": "VBoxView",
            "box_style": "",
            "children": [
              "IPY_MODEL_53f21f4026fc4a70b0784116ef85a032",
              "IPY_MODEL_068578ca97ec4491a03bc5e53138842b",
              "IPY_MODEL_8d87d9c3f3bc4f039452dc0216c57700"
            ],
            "layout": "IPY_MODEL_f623f022c803420b99f1bc5876b937d7"
          }
        },
        "53f21f4026fc4a70b0784116ef85a032": {
          "model_module": "@jupyter-widgets/controls",
          "model_name": "IntSliderModel",
          "model_module_version": "1.5.0",
          "state": {
            "_dom_classes": [],
            "_model_module": "@jupyter-widgets/controls",
            "_model_module_version": "1.5.0",
            "_model_name": "IntSliderModel",
            "_view_count": null,
            "_view_module": "@jupyter-widgets/controls",
            "_view_module_version": "1.5.0",
            "_view_name": "IntSliderView",
            "continuous_update": true,
            "description": "測試編號",
            "description_tooltip": null,
            "disabled": false,
            "layout": "IPY_MODEL_2b115b5c2bcc4d0ea551d6ef3fcf647f",
            "max": 9999,
            "min": 0,
            "orientation": "horizontal",
            "readout": true,
            "readout_format": "d",
            "step": 1,
            "style": "IPY_MODEL_e0ce3fadbb2b4f1d9b789fd83c0b01be",
            "value": 5837
          }
        },
        "068578ca97ec4491a03bc5e53138842b": {
          "model_module": "@jupyter-widgets/controls",
          "model_name": "ButtonModel",
          "model_module_version": "1.5.0",
          "state": {
            "_dom_classes": [],
            "_model_module": "@jupyter-widgets/controls",
            "_model_module_version": "1.5.0",
            "_model_name": "ButtonModel",
            "_view_count": null,
            "_view_module": "@jupyter-widgets/controls",
            "_view_module_version": "1.5.0",
            "_view_name": "ButtonView",
            "button_style": "",
            "description": "Run Interact",
            "disabled": false,
            "icon": "",
            "layout": "IPY_MODEL_62973b8790924cbcb6669cc836285867",
            "style": "IPY_MODEL_d34753b3674b40df83158e09ccecd4d6",
            "tooltip": ""
          }
        },
        "8d87d9c3f3bc4f039452dc0216c57700": {
          "model_module": "@jupyter-widgets/output",
          "model_name": "OutputModel",
          "model_module_version": "1.0.0",
          "state": {
            "_dom_classes": [],
            "_model_module": "@jupyter-widgets/output",
            "_model_module_version": "1.0.0",
            "_model_name": "OutputModel",
            "_view_count": null,
            "_view_module": "@jupyter-widgets/output",
            "_view_module_version": "1.0.0",
            "_view_name": "OutputView",
            "layout": "IPY_MODEL_6215ddcc195c43218c24ec3ab199f46b",
            "msg_id": "",
            "outputs": [
              {
                "output_type": "stream",
                "name": "stdout",
                "text": [
                  "神經網路判斷為: 9\n"
                ]
              },
              {
                "output_type": "display_data",
                "data": {
                  "text/plain": "<Figure size 432x288 with 1 Axes>",
                  "image/png": "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\n"
                },
                "metadata": {
                  "needs_background": "light"
                }
              }
            ]
          }
        },
        "f623f022c803420b99f1bc5876b937d7": {
          "model_module": "@jupyter-widgets/base",
          "model_name": "LayoutModel",
          "model_module_version": "1.2.0",
          "state": {
            "_model_module": "@jupyter-widgets/base",
            "_model_module_version": "1.2.0",
            "_model_name": "LayoutModel",
            "_view_count": null,
            "_view_module": "@jupyter-widgets/base",
            "_view_module_version": "1.2.0",
            "_view_name": "LayoutView",
            "align_content": null,
            "align_items": null,
            "align_self": null,
            "border": null,
            "bottom": null,
            "display": null,
            "flex": null,
            "flex_flow": null,
            "grid_area": null,
            "grid_auto_columns": null,
            "grid_auto_flow": null,
            "grid_auto_rows": null,
            "grid_column": null,
            "grid_gap": null,
            "grid_row": null,
            "grid_template_areas": null,
            "grid_template_columns": null,
            "grid_template_rows": null,
            "height": null,
            "justify_content": null,
            "justify_items": null,
            "left": null,
            "margin": null,
            "max_height": null,
            "max_width": null,
            "min_height": null,
            "min_width": null,
            "object_fit": null,
            "object_position": null,
            "order": null,
            "overflow": null,
            "overflow_x": null,
            "overflow_y": null,
            "padding": null,
            "right": null,
            "top": null,
            "visibility": null,
            "width": null
          }
        },
        "2b115b5c2bcc4d0ea551d6ef3fcf647f": {
          "model_module": "@jupyter-widgets/base",
          "model_name": "LayoutModel",
          "model_module_version": "1.2.0",
          "state": {
            "_model_module": "@jupyter-widgets/base",
            "_model_module_version": "1.2.0",
            "_model_name": "LayoutModel",
            "_view_count": null,
            "_view_module": "@jupyter-widgets/base",
            "_view_module_version": "1.2.0",
            "_view_name": "LayoutView",
            "align_content": null,
            "align_items": null,
            "align_self": null,
            "border": null,
            "bottom": null,
            "display": null,
            "flex": null,
            "flex_flow": null,
            "grid_area": null,
            "grid_auto_columns": null,
            "grid_auto_flow": null,
            "grid_auto_rows": null,
            "grid_column": null,
            "grid_gap": null,
            "grid_row": null,
            "grid_template_areas": null,
            "grid_template_columns": null,
            "grid_template_rows": null,
            "height": null,
            "justify_content": null,
            "justify_items": null,
            "left": null,
            "margin": null,
            "max_height": null,
            "max_width": null,
            "min_height": null,
            "min_width": null,
            "object_fit": null,
            "object_position": null,
            "order": null,
            "overflow": null,
            "overflow_x": null,
            "overflow_y": null,
            "padding": null,
            "right": null,
            "top": null,
            "visibility": null,
            "width": null
          }
        },
        "e0ce3fadbb2b4f1d9b789fd83c0b01be": {
          "model_module": "@jupyter-widgets/controls",
          "model_name": "SliderStyleModel",
          "model_module_version": "1.5.0",
          "state": {
            "_model_module": "@jupyter-widgets/controls",
            "_model_module_version": "1.5.0",
            "_model_name": "SliderStyleModel",
            "_view_count": null,
            "_view_module": "@jupyter-widgets/base",
            "_view_module_version": "1.2.0",
            "_view_name": "StyleView",
            "description_width": "",
            "handle_color": null
          }
        },
        "62973b8790924cbcb6669cc836285867": {
          "model_module": "@jupyter-widgets/base",
          "model_name": "LayoutModel",
          "model_module_version": "1.2.0",
          "state": {
            "_model_module": "@jupyter-widgets/base",
            "_model_module_version": "1.2.0",
            "_model_name": "LayoutModel",
            "_view_count": null,
            "_view_module": "@jupyter-widgets/base",
            "_view_module_version": "1.2.0",
            "_view_name": "LayoutView",
            "align_content": null,
            "align_items": null,
            "align_self": null,
            "border": null,
            "bottom": null,
            "display": null,
            "flex": null,
            "flex_flow": null,
            "grid_area": null,
            "grid_auto_columns": null,
            "grid_auto_flow": null,
            "grid_auto_rows": null,
            "grid_column": null,
            "grid_gap": null,
            "grid_row": null,
            "grid_template_areas": null,
            "grid_template_columns": null,
            "grid_template_rows": null,
            "height": null,
            "justify_content": null,
            "justify_items": null,
            "left": null,
            "margin": null,
            "max_height": null,
            "max_width": null,
            "min_height": null,
            "min_width": null,
            "object_fit": null,
            "object_position": null,
            "order": null,
            "overflow": null,
            "overflow_x": null,
            "overflow_y": null,
            "padding": null,
            "right": null,
            "top": null,
            "visibility": null,
            "width": null
          }
        },
        "d34753b3674b40df83158e09ccecd4d6": {
          "model_module": "@jupyter-widgets/controls",
          "model_name": "ButtonStyleModel",
          "model_module_version": "1.5.0",
          "state": {
            "_model_module": "@jupyter-widgets/controls",
            "_model_module_version": "1.5.0",
            "_model_name": "ButtonStyleModel",
            "_view_count": null,
            "_view_module": "@jupyter-widgets/base",
            "_view_module_version": "1.2.0",
            "_view_name": "StyleView",
            "button_color": null,
            "font_weight": ""
          }
        },
        "6215ddcc195c43218c24ec3ab199f46b": {
          "model_module": "@jupyter-widgets/base",
          "model_name": "LayoutModel",
          "model_module_version": "1.2.0",
          "state": {
            "_model_module": "@jupyter-widgets/base",
            "_model_module_version": "1.2.0",
            "_model_name": "LayoutModel",
            "_view_count": null,
            "_view_module": "@jupyter-widgets/base",
            "_view_module_version": "1.2.0",
            "_view_name": "LayoutView",
            "align_content": null,
            "align_items": null,
            "align_self": null,
            "border": null,
            "bottom": null,
            "display": null,
            "flex": null,
            "flex_flow": null,
            "grid_area": null,
            "grid_auto_columns": null,
            "grid_auto_flow": null,
            "grid_auto_rows": null,
            "grid_column": null,
            "grid_gap": null,
            "grid_row": null,
            "grid_template_areas": null,
            "grid_template_columns": null,
            "grid_template_rows": null,
            "height": null,
            "justify_content": null,
            "justify_items": null,
            "left": null,
            "margin": null,
            "max_height": null,
            "max_width": null,
            "min_height": null,
            "min_width": null,
            "object_fit": null,
            "object_position": null,
            "order": null,
            "overflow": null,
            "overflow_x": null,
            "overflow_y": null,
            "padding": null,
            "right": null,
            "top": null,
            "visibility": null,
            "width": null
          }
        }
      }
    }
  },
  "cells": [
    {
      "cell_type": "markdown",
      "metadata": {
        "id": "view-in-github",
        "colab_type": "text"
      },
      "source": [
        "<a href=\"https://colab.research.google.com/github/ttu1984wei/AI_practice/blob/main/DNN_%E5%81%9A%E6%89%8B%E5%AF%AB%E8%BE%A8%E8%AD%98_MNSIT.ipynb\" target=\"_parent\"><img src=\"https://colab.research.google.com/assets/colab-badge.svg\" alt=\"Open In Colab\"/></a>"
      ]
    },
    {
      "cell_type": "code",
      "execution_count": 3,
      "metadata": {
        "id": "h167fVgPh_Ia"
      },
      "outputs": [],
      "source": [
        "%matplotlib inline\n",
        "\n",
        "import tensorflow as tf\n",
        "import numpy as np\n",
        "import matplotlib.pyplot as plt\n",
        "import pandas as pd\n",
        "\n",
        "from tensorflow.keras.utils import to_categorical\n",
        "from tensorflow.keras.models import Sequential, load_model\n",
        "from tensorflow.keras.layers import Dense, Activation\n",
        "from tensorflow.keras.optimizers import SGD\n",
        "from tensorflow.keras.datasets import mnist\n",
        "from keras.layers import Dropout\n",
        "from ipywidgets import interact_manual\n",
        "from google.colab import drive"
      ]
    },
    {
      "cell_type": "code",
      "source": [
        "(x_train, y_train), (x_test, y_test) = mnist.load_data()"
      ],
      "metadata": {
        "id": "TEgdfDLQZU51"
      },
      "execution_count": 4,
      "outputs": []
    },
    {
      "cell_type": "code",
      "source": [
        "print(x_train.shape)\n",
        "print(x_test.shape)"
      ],
      "metadata": {
        "colab": {
          "base_uri": "https://localhost:8080/"
        },
        "id": "2WBYyFEEZibq",
        "outputId": "d76ea723-c4c6-4f82-a8a8-053cb66ccfe2"
      },
      "execution_count": 5,
      "outputs": [
        {
          "output_type": "stream",
          "name": "stdout",
          "text": [
            "(60000, 28, 28)\n",
            "(10000, 28, 28)\n"
          ]
        }
      ]
    },
    {
      "cell_type": "code",
      "source": [
        "sub_plot = 330\n",
        "for i in range(0, 9):\n",
        "    ax = plt.subplot(sub_plot+i+1)\n",
        "    ax.imshow(x_train[i], cmap = 'Greys')\n",
        "    ax.set_title('Label:' + str(y_train[i]))\n",
        "    ax.axis('off')\n",
        "    \n",
        "plt.subplots_adjust(hspace = .5)#顯示數字圖片\n",
        "plt.show()"
      ],
      "metadata": {
        "colab": {
          "base_uri": "https://localhost:8080/",
          "height": 264
        },
        "id": "RVZNRYtTZtID",
        "outputId": "63d7b183-2f03-4bbc-cefd-39a08c884417"
      },
      "execution_count": 6,
      "outputs": [
        {
          "output_type": "display_data",
          "data": {
            "text/plain": [
              "<Figure size 432x288 with 9 Axes>"
            ],
            "image/png": "[encoded data removed]"
          },
          "metadata": {
            "needs_background": "light"
          }
        }
      ]
    },
    {
      "cell_type": "code",
      "source": [
        "x_train = x_train.reshape(x_train.shape[0], 28*28).astype('float32')#轉成一維向量\n",
        "x_test = x_test.reshape(x_test.shape[0], 28*28).astype('float32')#轉成一維向量"
      ],
      "metadata": {
        "id": "oqFMcp-lZvcM"
      },
      "execution_count": 7,
      "outputs": []
    },
    {
      "cell_type": "code",
      "source": [
        "print(x_train.shape)"
      ],
      "metadata": {
        "colab": {
          "base_uri": "https://localhost:8080/"
        },
        "id": "s8vz7IKgZ2dX",
        "outputId": "6a6bece7-13fc-4c4f-c75d-3697466ce426"
      },
      "execution_count": 8,
      "outputs": [
        {
          "output_type": "stream",
          "name": "stdout",
          "text": [
            "(60000, 784)\n"
          ]
        }
      ]
    },
    {
      "cell_type": "code",
      "source": [
        "#正規化，讓數字介於[0,1]之間\n",
        "x_train = x_train / 255\n",
        "x_test = x_test / 255"
      ],
      "metadata": {
        "id": "Kjy6xMXvZ4gC"
      },
      "execution_count": 9,
      "outputs": []
    },
    {
      "cell_type": "code",
      "source": [
        "y_train = to_categorical(y_train)\n",
        "y_test = to_categorical(y_test)"
      ],
      "metadata": {
        "id": "dUshjXV5Z76S"
      },
      "execution_count": 10,
      "outputs": []
    },
    {
      "cell_type": "code",
      "source": [
        "# 定義模型\n",
        "model = Sequential()\n",
        "model.add(Dense(256, input_dim=28*28, activation=\"relu\"))\n",
        "model.add(Dense(512, activation=\"relu\"))\n",
        "model.add(Dense(100, activation='relu'))\n",
        "model.add(Dense(10, activation=\"softmax\"))\n",
        "model.summary()   # 顯示模型摘要資訊"
      ],
      "metadata": {
        "colab": {
          "base_uri": "https://localhost:8080/"
        },
        "id": "-XeR7B5EZ-aQ",
        "outputId": "5257ef20-a967-46cb-b98e-e19c684b2ca1"
      },
      "execution_count": 11,
      "outputs": [
        {
          "output_type": "stream",
          "name": "stdout",
          "text": [
            "Model: \"sequential\"\n",
            "_________________________________________________________________\n",
            " Layer (type)                Output Shape              Param #   \n",
            "=================================================================\n",
            " dense (Dense)               (None, 256)               200960    \n",
            "                                                                 \n",
            " dense_1 (Dense)             (None, 512)               131584    \n",
            "                                                                 \n",
            " dense_2 (Dense)             (None, 100)               51300     \n",
            "                                                                 \n",
            " dense_3 (Dense)             (None, 10)                1010      \n",
            "                                                                 \n",
            "=================================================================\n",
            "Total params: 384,854\n",
            "Trainable params: 384,854\n",
            "Non-trainable params: 0\n",
            "_________________________________________________________________\n"
          ]
        }
      ]
    },
    {
      "cell_type": "code",
      "source": [
        "# 編譯模型\n",
        "model.compile(loss='mse', optimizer=SGD(learning_rate=0.087), \n",
        "              metrics=['accuracy'])"
      ],
      "metadata": {
        "id": "9aUH1oKDaBKO"
      },
      "execution_count": 12,
      "outputs": []
    },
    {
      "cell_type": "code",
      "source": [
        "#訓練模型\n",
        "history = model.fit(x_train, y_train, validation_split=0.2, \n",
        "                    epochs=20, batch_size=128, verbose=2)"
      ],
      "metadata": {
        "colab": {
          "base_uri": "https://localhost:8080/"
        },
        "id": "V5kRMDMcahR3",
        "outputId": "ab2a7f13-e5c1-417e-c17c-896b37a2a8cd"
      },
      "execution_count": 13,
      "outputs": [
        {
          "output_type": "stream",
          "name": "stdout",
          "text": [
            "Epoch 1/20\n",
            "375/375 - 3s - loss: 0.0870 - accuracy: 0.2679 - val_loss: 0.0819 - val_accuracy: 0.4475 - 3s/epoch - 9ms/step\n",
            "Epoch 2/20\n",
            "375/375 - 3s - loss: 0.0721 - accuracy: 0.5971 - val_loss: 0.0572 - val_accuracy: 0.7197 - 3s/epoch - 8ms/step\n",
            "Epoch 3/20\n",
            "375/375 - 3s - loss: 0.0440 - accuracy: 0.7693 - val_loss: 0.0311 - val_accuracy: 0.8403 - 3s/epoch - 8ms/step\n",
            "Epoch 4/20\n",
            "375/375 - 3s - loss: 0.0280 - accuracy: 0.8444 - val_loss: 0.0222 - val_accuracy: 0.8716 - 3s/epoch - 8ms/step\n",
            "Epoch 5/20\n",
            "375/375 - 3s - loss: 0.0220 - accuracy: 0.8698 - val_loss: 0.0185 - val_accuracy: 0.8896 - 3s/epoch - 8ms/step\n",
            "Epoch 6/20\n",
            "375/375 - 3s - loss: 0.0190 - accuracy: 0.8846 - val_loss: 0.0165 - val_accuracy: 0.8973 - 3s/epoch - 8ms/step\n",
            "Epoch 7/20\n",
            "375/375 - 3s - loss: 0.0172 - accuracy: 0.8944 - val_loss: 0.0153 - val_accuracy: 0.9050 - 3s/epoch - 8ms/step\n",
            "Epoch 8/20\n",
            "375/375 - 3s - loss: 0.0160 - accuracy: 0.8999 - val_loss: 0.0143 - val_accuracy: 0.9105 - 3s/epoch - 8ms/step\n",
            "Epoch 9/20\n",
            "375/375 - 3s - loss: 0.0150 - accuracy: 0.9059 - val_loss: 0.0136 - val_accuracy: 0.9133 - 3s/epoch - 8ms/step\n",
            "Epoch 10/20\n",
            "375/375 - 3s - loss: 0.0143 - accuracy: 0.9098 - val_loss: 0.0131 - val_accuracy: 0.9168 - 3s/epoch - 8ms/step\n",
            "Epoch 11/20\n",
            "375/375 - 3s - loss: 0.0136 - accuracy: 0.9139 - val_loss: 0.0126 - val_accuracy: 0.9193 - 3s/epoch - 8ms/step\n",
            "Epoch 12/20\n",
            "375/375 - 3s - loss: 0.0131 - accuracy: 0.9176 - val_loss: 0.0122 - val_accuracy: 0.9216 - 3s/epoch - 8ms/step\n",
            "Epoch 13/20\n",
            "375/375 - 4s - loss: 0.0126 - accuracy: 0.9209 - val_loss: 0.0118 - val_accuracy: 0.9236 - 4s/epoch - 11ms/step\n",
            "Epoch 14/20\n",
            "375/375 - 3s - loss: 0.0122 - accuracy: 0.9239 - val_loss: 0.0115 - val_accuracy: 0.9268 - 3s/epoch - 9ms/step\n",
            "Epoch 15/20\n",
            "375/375 - 3s - loss: 0.0118 - accuracy: 0.9259 - val_loss: 0.0112 - val_accuracy: 0.9283 - 3s/epoch - 8ms/step\n",
            "Epoch 16/20\n",
            "375/375 - 3s - loss: 0.0115 - accuracy: 0.9279 - val_loss: 0.0110 - val_accuracy: 0.9288 - 3s/epoch - 8ms/step\n",
            "Epoch 17/20\n",
            "375/375 - 3s - loss: 0.0112 - accuracy: 0.9297 - val_loss: 0.0108 - val_accuracy: 0.9302 - 3s/epoch - 8ms/step\n",
            "Epoch 18/20\n",
            "375/375 - 3s - loss: 0.0109 - accuracy: 0.9317 - val_loss: 0.0105 - val_accuracy: 0.9345 - 3s/epoch - 8ms/step\n",
            "Epoch 19/20\n",
            "375/375 - 3s - loss: 0.0106 - accuracy: 0.9335 - val_loss: 0.0103 - val_accuracy: 0.9351 - 3s/epoch - 8ms/step\n",
            "Epoch 20/20\n",
            "375/375 - 3s - loss: 0.0104 - accuracy: 0.9347 - val_loss: 0.0102 - val_accuracy: 0.9366 - 3s/epoch - 8ms/step\n"
          ]
        }
      ]
    },
    {
      "cell_type": "code",
      "source": [
        "#評估模型\n",
        "loss, accuracy = model.evaluate(x_test, y_test)\n",
        "print(loss)\n",
        "print(accuracy)"
      ],
      "metadata": {
        "colab": {
          "base_uri": "https://localhost:8080/"
        },
        "id": "AmkaZBgVarz5",
        "outputId": "ce576cb7-221c-4038-d199-550db111382e"
      },
      "execution_count": 14,
      "outputs": [
        {
          "output_type": "stream",
          "name": "stdout",
          "text": [
            "313/313 [==============================] - 1s 2ms/step - loss: 0.0102 - accuracy: 0.9357\n",
            "0.010169978253543377\n",
            "0.935699999332428\n"
          ]
        }
      ]
    },
    {
      "cell_type": "code",
      "source": [
        "#顯示訓練和驗證損失\n",
        "loss = history.history['loss']\n",
        "epochs = range(1, len(loss)+1)\n",
        "val_loss = history.history['val_loss']\n",
        "plt.plot(epochs, loss, \"bo-\", label='Training Loss')\n",
        "plt.plot(epochs, val_loss, \"ro--\", label='Validation Loss')\n",
        "plt.title('Training and Validation Loss')\n",
        "plt.xlabel('Epochs')\n",
        "plt.ylabel('Loss')\n",
        "plt.legend()\n",
        "plt.show()"
      ],
      "metadata": {
        "colab": {
          "base_uri": "https://localhost:8080/",
          "height": 295
        },
        "id": "E0BRoR1rbDkU",
        "outputId": "80bb5668-9afb-446c-e046-8baa279012a1"
      },
      "execution_count": 15,
      "outputs": [
        {
          "output_type": "display_data",
          "data": {
            "text/plain": [
              "<Figure size 432x288 with 1 Axes>"
            ],
            "image/png": "[encoded data removed]"
          },
          "metadata": {
            "needs_background": "light"
          }
        }
      ]
    },
    {
      "cell_type": "code",
      "source": [
        "#顯示訓練和驗證準確度\n",
        "acc = history.history[\"accuracy\"]\n",
        "epochs = range(1, len(acc)+1)\n",
        "val_acc = history.history[\"val_accuracy\"]\n",
        "plt.plot(epochs, acc, \"bo-\", label=\"Training Acc\")\n",
        "plt.plot(epochs, val_acc, \"ro--\", label=\"Validation Acc\")\n",
        "plt.title(\"Training and Validation Accuracy\")\n",
        "plt.xlabel(\"Epochs\")\n",
        "plt.ylabel(\"Accuracy\")\n",
        "plt.legend()\n",
        "plt.show()"
      ],
      "metadata": {
        "colab": {
          "base_uri": "https://localhost:8080/",
          "height": 295
        },
        "id": "nx17la0nbFmm",
        "outputId": "0d2e3c3b-d5dc-4b0d-d25e-5174dd167b72"
      },
      "execution_count": 16,
      "outputs": [
        {
          "output_type": "display_data",
          "data": {
            "text/plain": [
              "<Figure size 432x288 with 1 Axes>"
            ],
            "image/png": "[encoded data removed]"
          },
          "metadata": {
            "needs_background": "light"
          }
        }
      ]
    },
    {
      "cell_type": "code",
      "source": [
        "y_predict = np.argmax(model.predict(x_test), axis=-1)"
      ],
      "metadata": {
        "id": "ZKlU4R0Qcm9s"
      },
      "execution_count": 17,
      "outputs": []
    },
    {
      "cell_type": "code",
      "source": [
        "def test(測試編號):\n",
        "    plt.imshow(x_test[測試編號].reshape(28,28), cmap='Greys')\n",
        "    print('神經網路判斷為:', y_predict[測試編號])"
      ],
      "metadata": {
        "id": "dk4EgeO1bIqR"
      },
      "execution_count": 18,
      "outputs": []
    },
    {
      "cell_type": "code",
      "source": [
        "interact_manual(test, 測試編號=(0, 9999));"
      ],
      "metadata": {
        "colab": {
          "base_uri": "https://localhost:8080/",
          "height": 347,
          "referenced_widgets": [
            "ce1133c1d6fb464b8fe32eceda612af8",
            "53f21f4026fc4a70b0784116ef85a032",
            "068578ca97ec4491a03bc5e53138842b",
            "8d87d9c3f3bc4f039452dc0216c57700",
            "f623f022c803420b99f1bc5876b937d7",
            "2b115b5c2bcc4d0ea551d6ef3fcf647f",
            "e0ce3fadbb2b4f1d9b789fd83c0b01be",
            "62973b8790924cbcb6669cc836285867",
            "d34753b3674b40df83158e09ccecd4d6",
            "6215ddcc195c43218c24ec3ab199f46b"
          ]
        },
        "id": "LyZKDCKfcW4V",
        "outputId": "25a1a986-d815-4c43-cc1d-30bfe1a7f621"
      },
      "execution_count": 19,
      "outputs": [
        {
          "output_type": "display_data",
          "data": {
            "text/plain": [
              "interactive(children=(IntSlider(value=4999, description='測試編號', max=9999), Button(description='Run Interact', …"
            ],
            "application/vnd.jupyter.widget-view+json": {
              "version_major": 2,
              "version_minor": 0,
              "model_id": "ce1133c1d6fb464b8fe32eceda612af8"
            }
          },
          "metadata": {}
        }
      ]
    },
    {
      "cell_type": "code",
      "source": [
        "drive.mount('/content/drive')"
      ],
      "metadata": {
        "colab": {
          "base_uri": "https://localhost:8080/"
        },
        "id": "WdiZHR5zcY-I",
        "outputId": "ef65fbc8-7eb5-4af2-fbf6-d74268c0f7f9"
      },
      "execution_count": 20,
      "outputs": [
        {
          "output_type": "stream",
          "name": "stdout",
          "text": [
            "Drive already mounted at /content/drive; to attempt to forcibly remount, call drive.mount(\"/content/drive\", force_remount=True).\n"
          ]
        }
      ]
    },
    {
      "cell_type": "code",
      "source": [
        "%cd '/content/drive/My Drive/Colab Notebooks'"
      ],
      "metadata": {
        "colab": {
          "base_uri": "https://localhost:8080/"
        },
        "id": "oyVuZ2DddRrL",
        "outputId": "a852205d-cc3c-42bf-d9b0-0a5f0f447b0f"
      },
      "execution_count": 21,
      "outputs": [
        {
          "output_type": "stream",
          "name": "stdout",
          "text": [
            "/content/drive/My Drive/Colab Notebooks\n"
          ]
        }
      ]
    },
    {
      "cell_type": "code",
      "source": [
        "model.save('my_dnn_model')"
      ],
      "metadata": {
        "colab": {
          "base_uri": "https://localhost:8080/"
        },
        "id": "qgPeXJ9xdjYr",
        "outputId": "19ed67a0-614d-4c9b-f6fd-18c5e2e078d9"
      },
      "execution_count": 22,
      "outputs": [
        {
          "output_type": "stream",
          "name": "stdout",
          "text": [
            "INFO:tensorflow:Assets written to: my_dnn_model/assets\n"
          ]
        }
      ]
    },
    {
      "cell_type": "code",
      "source": [
        ""
      ],
      "metadata": {
        "id": "TQRGriwfdnVH"
      },
      "execution_count": null,
      "outputs": []
    }
  ]
}